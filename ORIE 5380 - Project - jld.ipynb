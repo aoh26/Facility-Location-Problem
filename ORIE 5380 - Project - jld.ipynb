{
 "cells": [
  {
   "cell_type": "code",
   "execution_count": 1,
   "metadata": {},
   "outputs": [],
   "source": [
    "# import sys\n",
    "# print(sys.executable)\n",
    "# !{sys.executable} -m pip install gurobipy\n",
    "from gurobipy import *\n",
    "import math"
   ]
  },
  {
   "cell_type": "code",
   "execution_count": 3,
   "metadata": {},
   "outputs": [
    {
     "name": "stdout",
     "output_type": "stream",
     "text": [
      "<KeysViewHDF5 ['X', '_creator']> <KeysViewHDF5 ['X', '_creator']> <KeysViewHDF5 ['X', '_creator']>\n"
     ]
    }
   ],
   "source": [
    "#open jld\n",
    "#https://docs.h5py.org/en/stable/high/group.html\n",
    "#https://docs.h5py.org/en/stable/high/attr.html\n",
    "import h5py\n",
    "x1_data = h5py.File(\"X1.jld\", \"r\")\n",
    "x2_data = h5py.File(\"X2.jld\", \"r\")\n",
    "x3_data = h5py.File(\"X3.jld\", \"r\")\n",
    "\n",
    "print(x1_data.keys(),x2_data.keys(),x3_data.keys())"
   ]
  },
  {
   "cell_type": "code",
   "execution_count": 4,
   "metadata": {},
   "outputs": [
    {
     "name": "stdout",
     "output_type": "stream",
     "text": [
      "<HDF5 dataset \"X\": shape (2, 25), type \"<f8\">\n",
      "[-9.31431352 -5.66901261 -5.58994131 -6.48529461 -4.64803558 -6.92318026\n",
      " -4.9219469  -6.18895012 -6.383588   -4.83052083 -5.54884829 -6.03902456\n",
      " -9.36696392 -1.01326107  0.08758034  1.34522284  1.02763538  0.18065355\n",
      "  0.96876053  2.14521255 -3.81989054 -4.94544952 -3.29144358 -2.36855237\n",
      " -4.05178677]\n",
      "[ 21.85248196  22.82571229  21.70189592  20.44812788 -13.57047711\n",
      " -13.45455931 -13.16898973 -15.16087729 -14.11121926 -13.3698081\n",
      " -13.74643136 -13.17614957 -13.63194927  -5.99053048  -4.86670161\n",
      "  -5.53625377  -6.47446421  -4.69903272  -4.01117971  -6.54907345\n",
      "   1.50498652   1.28581208   2.7638501    2.11314414   1.67859478]\n"
     ]
    }
   ],
   "source": [
    "# f[\"input\"].value, f[\"output\"].value\n",
    "# f[\"X\"].value\n",
    "# f[\"_creator\"]\n",
    "\n",
    "print(x1_data[\"X\"])\n",
    "print(x1_data[\"X\"][0])\n",
    "print(x1_data[\"X\"][1])"
   ]
  },
  {
   "cell_type": "code",
   "execution_count": 5,
   "metadata": {},
   "outputs": [
    {
     "data": {
      "text/plain": [
       "<KeysViewHDF5 ['ENDIAN_BOM', 'JULIA_MAJOR', 'JULIA_MINOR', 'JULIA_PATCH', 'WORD_SIZE']>"
      ]
     },
     "execution_count": 5,
     "metadata": {},
     "output_type": "execute_result"
    }
   ],
   "source": [
    "x1_data[\"_creator\"].keys()"
   ]
  }
 ],
 "metadata": {
  "kernelspec": {
   "display_name": "Python 3",
   "language": "python",
   "name": "python3"
  },
  "language_info": {
   "codemirror_mode": {
    "name": "ipython",
    "version": 3
   },
   "file_extension": ".py",
   "mimetype": "text/x-python",
   "name": "python",
   "nbconvert_exporter": "python",
   "pygments_lexer": "ipython3",
   "version": "3.8.8"
  }
 },
 "nbformat": 4,
 "nbformat_minor": 4
}
