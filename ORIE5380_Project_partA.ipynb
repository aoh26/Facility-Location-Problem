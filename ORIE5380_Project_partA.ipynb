{
 "cells": [
  {
   "cell_type": "code",
   "execution_count": 179,
   "metadata": {},
   "outputs": [
    {
     "name": "stdout",
     "output_type": "stream",
     "text": [
      "/Users/Abe/opt/anaconda3/bin/python\n",
      "Requirement already satisfied: gurobipy in /Users/Abe/opt/anaconda3/lib/python3.8/site-packages (9.5.0)\n"
     ]
    }
   ],
   "source": [
    "import sys\n",
    "print(sys.executable)\n",
    "!{sys.executable} -m pip install gurobipy\n",
    "from gurobipy import *\n",
    "import math"
   ]
  },
  {
   "cell_type": "code",
   "execution_count": 180,
   "metadata": {},
   "outputs": [
    {
     "name": "stdout",
     "output_type": "stream",
     "text": [
      "<HDF5 dataset \"X\": shape (2, 25), type \"<f8\">\n",
      "[-9.31431352 -5.66901261 -5.58994131 -6.48529461 -4.64803558 -6.92318026\n",
      " -4.9219469  -6.18895012 -6.383588   -4.83052083 -5.54884829 -6.03902456\n",
      " -9.36696392 -1.01326107  0.08758034  1.34522284  1.02763538  0.18065355\n",
      "  0.96876053  2.14521255 -3.81989054 -4.94544952 -3.29144358 -2.36855237\n",
      " -4.05178677]\n",
      "[ 21.85248196  22.82571229  21.70189592  20.44812788 -13.57047711\n",
      " -13.45455931 -13.16898973 -15.16087729 -14.11121926 -13.3698081\n",
      " -13.74643136 -13.17614957 -13.63194927  -5.99053048  -4.86670161\n",
      "  -5.53625377  -6.47446421  -4.69903272  -4.01117971  -6.54907345\n",
      "   1.50498652   1.28581208   2.7638501    2.11314414   1.67859478]\n"
     ]
    }
   ],
   "source": [
    "#open jld\n",
    "#https://docs.h5py.org/en/stable/high/group.html\n",
    "#https://docs.h5py.org/en/stable/high/attr.html\n",
    "import h5py\n",
    "x1_data = h5py.File(\"X1.jld\", \"r\")\n",
    "x2_data = h5py.File(\"X2.jld\", \"r\")\n",
    "x3_data = h5py.File(\"X3.jld\", \"r\")\n",
    "\n",
    "#print(x1_data.keys(),x2_data.keys(),x3_data.keys())\n",
    "\n",
    "# f[\"input\"].value, f[\"output\"].value\n",
    "# f[\"X\"].value\n",
    "# f[\"_creator\"]\n",
    "\n",
    "print(x1_data[\"X\"])\n",
    "print(x1_data[\"X\"][0])\n",
    "print(x1_data[\"X\"][1])\n",
    "\n",
    "#x1_data[\"_creator\"].keys()"
   ]
  },
  {
   "cell_type": "code",
   "execution_count": 181,
   "metadata": {},
   "outputs": [],
   "source": [
    "instance = 3\n",
    "# 1, 2, or 3\n",
    "\n",
    "if instance == 1:\n",
    "    n_min = 2\n",
    "    n_max = 8\n",
    "    d_max = 10\n",
    "    X = [x1_data[\"X\"][0], x1_data[\"X\"][1]]\n",
    "    \n",
    "elif instance == 2:\n",
    "    n_min = 4\n",
    "    n_max = 6\n",
    "    d_max = 9\n",
    "    X = [x2_data[\"X\"][0], x2_data[\"X\"][1]]\n",
    "    \n",
    "elif instance == 3:\n",
    "\n",
    "    n_min = 4\n",
    "    n_max = 6\n",
    "    d_max = 9 \n",
    "\n",
    "    X = [x3_data[\"X\"][0], x3_data[\"X\"][1]]\n",
    "\n",
    "else:\n",
    "    print(\"Error: instance needs to be 1, 2, or 3\")\n",
    "\n",
    "n = len(x1_data[\"X\"][0]) #should be 25"
   ]
  },
  {
   "cell_type": "code",
   "execution_count": 182,
   "metadata": {},
   "outputs": [],
   "source": [
    "# create model\n",
    "myModel = Model( \"ClientDepot_MinClusters\" )"
   ]
  },
  {
   "cell_type": "code",
   "execution_count": 183,
   "metadata": {},
   "outputs": [],
   "source": [
    "# decision variables and parameters\n",
    "\n",
    "# Y is an assignment matrix:\n",
    "# Y[i][j] = 1: client i is assigned to depot j, otherwise 0\n",
    "# each entry of Y is its own decision variable\n",
    "Y = []\n",
    "for i in range(n):\n",
    "    Y.append([])\n",
    "    for j in range(n):\n",
    "        Y[i].append(0)\n",
    "        Y[i][j] = myModel.addVar(lb = 0, ub = 1.0, vtype = GRB.BINARY )\n",
    "\n",
    "\n",
    "#depots is a vector that indicates whether a depot has clients assigned to it\n",
    "#depots[j] = 0: no clients assigned to depot j.\n",
    "#          = 1: one or more clients assigned to depot j.\n",
    "depots = [myModel.addVar(lb = 0, ub = 1.0, vtype = GRB.BINARY ) for j in range(n)]\n",
    "\n",
    "#parallel (perpendicular?) list to depots, used just for summing \n",
    "clients = [None for j in range(n)] \n",
    "\n",
    "# Z is a matrix that indicates whether clients i and ii are in the same depot\n",
    "Z = []\n",
    "for i in range(len(clients)):\n",
    "    Z.append([])\n",
    "    for ii in range(len(clients)):\n",
    "        Z[i].append(None)\n",
    "        Z[i][ii] = myModel.addVar(lb = 0, ub = 1.0, vtype = GRB.BINARY )\n",
    "\n",
    "\n",
    "#Y = myModel.addVar( vtype = GRB.BINARY, name = \"Y\" )\n",
    "myModel.update()\n",
    "#print(Y)\n",
    "        "
   ]
  },
  {
   "cell_type": "code",
   "execution_count": 184,
   "metadata": {},
   "outputs": [
    {
     "name": "stdout",
     "output_type": "stream",
     "text": [
      "<gurobi.LinExpr: C625 + C626 + C627 + C628 + C629 + C630 + C631 + C632 + C633 + C634 + C635 + C636 + C637 + C638 + C639 + C640 + C641 + C642 + C643 + C644 + C645 + C646 + C647 + C648 + C649>\n"
     ]
    }
   ],
   "source": [
    "# objective: MINIMIZE NUMBER OF CLUSTERS (part a)\n",
    "\n",
    "objExpr = LinExpr()\n",
    "\n",
    "for j in range(len(depots)):\n",
    "    objExpr += depots[j]\n",
    "\n",
    "myModel.setObjective( objExpr , GRB.MINIMIZE )\n",
    "\n",
    "print(objExpr)"
   ]
  },
  {
   "cell_type": "code",
   "execution_count": 185,
   "metadata": {},
   "outputs": [],
   "source": [
    "# create expressions for constraints and add to the model\n",
    "\n",
    "# FIRST CONSTRAINT: definition of \"depots\" \n",
    "#(vector that indicates if a column of Y represents a depot)\n",
    "\n",
    "firstConst = [LinExpr() for j in depots]\n",
    "for j in range(len(depots)):\n",
    "    \n",
    "    for i in range(len(clients)):\n",
    "        firstConst[j] += Y[i][j]/(n+1)\n",
    "    \n",
    "    # 0 < firstConst[j] < 1 if there is at least 1 client assigned to depot j\n",
    "        \n",
    "    myModel.addConstr( lhs = depots[j] , sense = GRB.GREATER_EQUAL , rhs = firstConst[j] )\n",
    "    #if there are some clients assigned to depot j (nonzero entries in the j-th col of Y)\n",
    "    #then depots[j] must be non-zero. since depots is binary, it will take on the value 1.\n",
    "    \n",
    "    myModel.addConstr( lhs = depots[j], sense = GRB.LESS_EQUAL, rhs = firstConst[j]*(n+1) + 0.5 )\n",
    "    # if there is no client assigned to depots[j], then the rhs will be 0.5, so\n",
    "    # depots[j] will be forced to be less than 0.5, and the only option is zero\n",
    "    # NOTE that this contraint is automatically satisfied if firstConst[j] is nonzero since the lhs > 1.\n",
    "    \n",
    "    \n",
    "    \n",
    "#SECOND CONSTRAINT: client-depot uniqueness\n",
    "#ensures that the sum of each row of Y is exactly 1 (each client assigned to one unique depot)\n",
    "\n",
    "secondConst = [LinExpr() for i in clients]\n",
    "for i in range(len(clients)):\n",
    "    \n",
    "    for j in range(len(depots)):\n",
    "        secondConst[i] += Y[i][j]\n",
    "    \n",
    "    myModel.addConstr( lhs = secondConst[i] , sense = GRB.EQUAL , rhs = 1 )\n",
    "\n",
    "    \n",
    "#THIRD CONSTRAINT: min and max clients constraint\n",
    "\n",
    "thirdConst = [LinExpr() for j in depots]\n",
    "for j in range(len(depots)):\n",
    "    \n",
    "    for i in range(len(clients)):\n",
    "        thirdConst[j] += Y[i][j]\n",
    "    \n",
    "    myModel.addConstr( lhs = thirdConst[j] , sense = GRB.LESS_EQUAL , rhs = n_max*depots[j] )\n",
    "    myModel.addConstr( lhs = thirdConst[j] , sense = GRB.GREATER_EQUAL , rhs = n_min*depots[j] )\n",
    "    \n",
    "# FOURTH CONSTRAINT: max distance constraint\n",
    "\n",
    "for j in range(len(depots)):\n",
    "    \n",
    "    #compare the distances between all clients in the column\n",
    "    \n",
    "    for i in range(len(depots)):\n",
    "        for ii in range(len(depots)): #TRIPLE LOOP :)\n",
    "            \n",
    "            d = math.sqrt((X[0][i] - X[0][ii])**2 + (X[1][i] - X[1][ii])**2)\n",
    "            act = 10000*(1 - Y[i][j]) + 10000*(1 - Y[ii][j])\n",
    "            #if Y[i][j] or Y[ii][j] = 0, the constraint will be satisfied automatically\n",
    "            #if they are both 1, then the constraint is \"act\"ivated, \n",
    "            #so the distance between that pair must be less than d_max\n",
    "            \n",
    "            myModel.addConstr( lhs = d , sense = GRB.LESS_EQUAL , rhs = d_max + act )"
   ]
  },
  {
   "cell_type": "code",
   "execution_count": 186,
   "metadata": {},
   "outputs": [
    {
     "name": "stdout",
     "output_type": "stream",
     "text": [
      "Gurobi Optimizer version 9.5.0 build v9.5.0rc5 (mac64[rosetta2])\n",
      "Thread count: 8 physical cores, 8 logical processors, using up to 8 threads\n",
      "Optimize a model with 15750 rows, 1275 columns and 33850 nonzeros\n",
      "Model fingerprint: 0xd2480bea\n",
      "Variable types: 0 continuous, 1275 integer (1275 binary)\n",
      "Coefficient statistics:\n",
      "  Matrix range     [4e-02, 2e+04]\n",
      "  Objective range  [1e+00, 1e+00]\n",
      "  Bounds range     [1e+00, 1e+00]\n",
      "  RHS range        [5e-01, 2e+04]\n",
      "Presolve removed 13196 rows and 644 columns\n",
      "Presolve time: 0.07s\n",
      "\n",
      "Explored 0 nodes (0 simplex iterations) in 0.08 seconds (0.12 work units)\n",
      "Thread count was 1 (of 8 available processors)\n",
      "\n",
      "Solution count 0\n",
      "\n",
      "Model is infeasible\n",
      "Best objective -, best bound -, gap -\n"
     ]
    }
   ],
   "source": [
    "# integrate objective and constraints into the model\n",
    "myModel.update()\n",
    "# write the model in a file to make sure it is constructed correctly\n",
    "myModel.write( filename = \"testOutput_A.lp\" )\n",
    "# optimize the model\n",
    "myModel.optimize()"
   ]
  },
  {
   "cell_type": "code",
   "execution_count": 187,
   "metadata": {},
   "outputs": [
    {
     "ename": "AttributeError",
     "evalue": "Unable to retrieve attribute 'ObjVal'",
     "output_type": "error",
     "traceback": [
      "\u001b[0;31m---------------------------------------------------------------------------\u001b[0m",
      "\u001b[0;31mAttributeError\u001b[0m                            Traceback (most recent call last)",
      "\u001b[0;32m<ipython-input-187-bc9378bfe88a>\u001b[0m in \u001b[0;36m<module>\u001b[0;34m\u001b[0m\n\u001b[1;32m      1\u001b[0m \u001b[0;31m# print optimal objective and optimal solution\u001b[0m\u001b[0;34m\u001b[0m\u001b[0;34m\u001b[0m\u001b[0;34m\u001b[0m\u001b[0m\n\u001b[0;32m----> 2\u001b[0;31m \u001b[0mprint\u001b[0m\u001b[0;34m(\u001b[0m \u001b[0;34m\"\\nOptimal Objective: \"\u001b[0m \u001b[0;34m+\u001b[0m \u001b[0mstr\u001b[0m\u001b[0;34m(\u001b[0m \u001b[0mmyModel\u001b[0m\u001b[0;34m.\u001b[0m\u001b[0mObjVal\u001b[0m \u001b[0;34m)\u001b[0m \u001b[0;34m)\u001b[0m\u001b[0;34m\u001b[0m\u001b[0;34m\u001b[0m\u001b[0m\n\u001b[0m\u001b[1;32m      3\u001b[0m \u001b[0;34m\u001b[0m\u001b[0m\n\u001b[1;32m      4\u001b[0m \u001b[0mprint\u001b[0m\u001b[0;34m(\u001b[0m \u001b[0;34m\"\\nOptimal Solution:\"\u001b[0m \u001b[0;34m)\u001b[0m\u001b[0;34m\u001b[0m\u001b[0;34m\u001b[0m\u001b[0m\n\u001b[1;32m      5\u001b[0m \u001b[0mY_display\u001b[0m \u001b[0;34m=\u001b[0m \u001b[0;34m[\u001b[0m\u001b[0;34m]\u001b[0m\u001b[0;34m\u001b[0m\u001b[0;34m\u001b[0m\u001b[0m\n",
      "\u001b[0;32msrc/gurobipy/model.pxi\u001b[0m in \u001b[0;36mgurobipy.Model.__getattr__\u001b[0;34m()\u001b[0m\n",
      "\u001b[0;32msrc/gurobipy/model.pxi\u001b[0m in \u001b[0;36mgurobipy.Model.getAttr\u001b[0;34m()\u001b[0m\n",
      "\u001b[0;32msrc/gurobipy/attrutil.pxi\u001b[0m in \u001b[0;36mgurobipy.__getattr\u001b[0;34m()\u001b[0m\n",
      "\u001b[0;31mAttributeError\u001b[0m: Unable to retrieve attribute 'ObjVal'"
     ]
    }
   ],
   "source": [
    "# print optimal objective and optimal solution\n",
    "print( \"\\nOptimal Objective: \" + str( myModel.ObjVal ) )\n",
    "\n",
    "print( \"\\nOptimal Solution:\" )\n",
    "Y_display = []\n",
    "for i in range(len(clients)):\n",
    "    Y_display.append([])\n",
    "    for j in range(len(depots)):\n",
    "        Y_display[i].append(int(Y[i][j].x))\n",
    "\n",
    "for i in range(len(clients)):\n",
    "    print(Y_display[i])"
   ]
  },
  {
   "cell_type": "code",
   "execution_count": null,
   "metadata": {},
   "outputs": [],
   "source": []
  },
  {
   "cell_type": "code",
   "execution_count": null,
   "metadata": {},
   "outputs": [],
   "source": []
  },
  {
   "cell_type": "code",
   "execution_count": null,
   "metadata": {},
   "outputs": [],
   "source": []
  }
 ],
 "metadata": {
  "kernelspec": {
   "display_name": "Python 3",
   "language": "python",
   "name": "python3"
  },
  "language_info": {
   "codemirror_mode": {
    "name": "ipython",
    "version": 3
   },
   "file_extension": ".py",
   "mimetype": "text/x-python",
   "name": "python",
   "nbconvert_exporter": "python",
   "pygments_lexer": "ipython3",
   "version": "3.8.8"
  }
 },
 "nbformat": 4,
 "nbformat_minor": 4
}
