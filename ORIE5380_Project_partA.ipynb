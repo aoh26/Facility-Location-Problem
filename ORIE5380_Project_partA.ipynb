{
 "cells": [
  {
   "cell_type": "code",
   "execution_count": 32,
   "metadata": {},
   "outputs": [],
   "source": [
    "import sys\n",
    "from gurobipy import *\n",
    "import math\n",
    "from matplotlib import pyplot as plt"
   ]
  },
  {
   "cell_type": "code",
   "execution_count": 69,
   "metadata": {},
   "outputs": [
    {
     "data": {
      "text/plain": [
       "25"
      ]
     },
     "execution_count": 69,
     "metadata": {},
     "output_type": "execute_result"
    }
   ],
   "source": [
    "#get data from .jld files\n",
    "#https://docs.h5py.org/en/stable/high/group.html\n",
    "#https://docs.h5py.org/en/stable/high/attr.html\n",
    "\n",
    "import h5py\n",
    "x1_data = h5py.File(\"X1.jld\", \"r\")\n",
    "x2_data = h5py.File(\"X2.jld\", \"r\")\n",
    "x3_data = h5py.File(\"X3.jld\", \"r\")\n",
    "\n",
    "# simple logic for switching between different instances of the problem (different client locations)\n",
    "# sets parameters of the problem and loads coordinate data into X (2D array)\n",
    "    # X[0]: all 25 \"x\" coordinates\n",
    "    # X[1]: \"y\" coordinates\n",
    "\n",
    "instance = 2 # 1, 2, or 3\n",
    "\n",
    "if instance == 1:\n",
    "    #2, 8, 10\n",
    "    n_min = 2\n",
    "    n_max = 8\n",
    "    d_max = 10\n",
    "    X = [x1_data[\"X\"][0], x1_data[\"X\"][1]]\n",
    "elif instance == 2:\n",
    "    #4, 6, 9\n",
    "    n_min = 4\n",
    "    n_max = 6\n",
    "    d_max = 9\n",
    "    X = [x2_data[\"X\"][0], x2_data[\"X\"][1]]   \n",
    "elif instance == 3:\n",
    "    #4, 6, 9\n",
    "    n_min = 4\n",
    "    n_max = 6\n",
    "    d_max = 9 \n",
    "    X = [x3_data[\"X\"][0], x3_data[\"X\"][1]]\n",
    "else:\n",
    "    print(\"Error: instance needs to be 1, 2, or 3\")\n",
    "\n",
    "n = len(X[0]) \n",
    "n #should be 25"
   ]
  },
  {
   "cell_type": "code",
   "execution_count": 54,
   "metadata": {},
   "outputs": [],
   "source": [
    "# Create model\n",
    "myModel = Model( \"ClientDepot_MinClusters\" )\n",
    "\n",
    "# Create variables and put them into arrays for reference in the model:\n",
    "\n",
    "Y = []\n",
    "for i in range(n):\n",
    "    Y.append([])\n",
    "    for j in range(n):\n",
    "        Y[i].append(0)\n",
    "        Y[i][j] = myModel.addVar(lb = 0, ub = 1.0, vtype = GRB.BINARY )\n",
    "# Y is an assignment matrix:\n",
    "# Y[i][j] = 1: client i is assigned to depot j, otherwise 0\n",
    "# each entry of Y is its own decision variable\n",
    "# NOTE: I always use i (or ii) to index clients and j to index depots\n",
    "\n",
    "depots = [myModel.addVar(lb = 0, ub = 1.0, vtype = GRB.BINARY ) for j in range(n)]\n",
    "#depots is a vector that indicates whether a depot has clients assigned to it\n",
    "#depots[j] = 0: no clients assigned to depot j.\n",
    "#          = 1: one or more clients assigned to depot j.\n",
    "\n",
    "D = []\n",
    "for i in range(n):\n",
    "    D.append([])\n",
    "    for ii in range(n):\n",
    "        D[i].append( math.sqrt((X[0][i] - X[0][ii])**2 + (X[1][i] - X[1][ii])**2) )\n",
    "# Distance matrix: D[i][ii] is the distance between clients i and ii\n",
    "#max(D[1])\n",
    "\n",
    "# update the model to save the variables\n",
    "myModel.update()"
   ]
  },
  {
   "cell_type": "code",
   "execution_count": 55,
   "metadata": {},
   "outputs": [],
   "source": [
    "# add objective equation to the model \n",
    "# Part (a): MINIMIZE NUMBER OF CLUSTERS (depots)\n",
    "\n",
    "objExpr = LinExpr()\n",
    "for j in range(n):\n",
    "    objExpr += depots[j]\n",
    "\n",
    "myModel.setObjective( objExpr , GRB.MINIMIZE )"
   ]
  },
  {
   "cell_type": "code",
   "execution_count": 57,
   "metadata": {},
   "outputs": [],
   "source": [
    "# create expressions for constraints and add to the model\n",
    "\n",
    "#IMPROVED FIRST CONSTRAINT (2/16/22 after 3 weeks of ORIE 5135 integer programming)\n",
    "    # we don't need to worry about an upper bound on Y since it is being minimized in the objective function\n",
    "    # so we only need to ensure that Y[i][j] = 1 ==> depots[j] = 1, not the reverse\n",
    "    # the former constraint is sufficient, but mathematically dominated by the following formulation:\n",
    "        # Y[i][j] <= depots[j] for all i, j\n",
    "firstConst = [[LinExpr() for j in depots] for i in clients] # this is a 2D array\n",
    "for i in range(n):\n",
    "    for j in range(n):\n",
    "        firstConst[i][j] += Y[i][j]\n",
    "        myModel.addConstr( lhs = firstConst[i][j] , sense = GRB.LESS_EQUAL , rhs = depots[j] )\n",
    "\n",
    "#SECOND CONSTRAINT: client-depot uniqueness\n",
    "#ensures that the sum of each row of Y is exactly 1 (each client assigned to one unique depot)\n",
    "secondConst = [LinExpr() for i in clients]\n",
    "for i in range(n):\n",
    "    for j in range(n):\n",
    "        secondConst[i] += Y[i][j]\n",
    "    \n",
    "    myModel.addConstr( lhs = secondConst[i] , sense = GRB.EQUAL , rhs = 1 )\n",
    "\n",
    "    \n",
    "#THIRD CONSTRAINT: min and max clients constraint\n",
    "#the sum of the j-th column of Y must be between n_min and n_max \n",
    "#(unless it is empty, i.e. depots[j] = 0)\n",
    "thirdConst = [LinExpr() for j in depots]\n",
    "for j in range(n):\n",
    "    for i in range(n):\n",
    "        thirdConst[j] += Y[i][j]\n",
    "        \n",
    "    myModel.addConstr( lhs = thirdConst[j] , sense = GRB.LESS_EQUAL , rhs = n_max*depots[j] )\n",
    "    myModel.addConstr( lhs = thirdConst[j] , sense = GRB.GREATER_EQUAL , rhs = n_min*depots[j] )\n",
    "    \n",
    "#FOURTH CONSTRAINT: max distance constraint\n",
    "#ensures that any two clients belonging to the same depot are no further than d_max from each other\n",
    "for j in range(n):\n",
    "    \n",
    "    #Look at each pair of clients i and ii in depot j\n",
    "    for i in range(n):\n",
    "        for ii in range(n): \n",
    "            \n",
    "            act = 1e10*(1 - Y[i][j]) + 1e10*(1 - Y[ii][j])\n",
    "            # act is very large if client i or ii is not in the depot, else 0\n",
    "            myModel.addConstr( lhs = D[i][ii], sense = GRB.LESS_EQUAL , rhs = d_max + act )\n",
    "            \n",
    "            #if Y[i][j] or Y[ii][j] = 0, the constraint will be satisfied automatically (rhs will be very large)\n",
    "            #if they are both 1, then the constraint is \"act\"ivated, \n",
    "            #so the distance between that pair must be less than d_max"
   ]
  },
  {
   "cell_type": "code",
   "execution_count": 58,
   "metadata": {},
   "outputs": [
    {
     "name": "stdout",
     "output_type": "stream",
     "text": [
      "Gurobi Optimizer version 9.5.0 build v9.5.0rc5 (mac64[rosetta2])\n",
      "Thread count: 8 physical cores, 8 logical processors, using up to 8 threads\n",
      "Optimize a model with 32650 rows, 650 columns and 67600 nonzeros\n",
      "Model fingerprint: 0x626b8cbf\n",
      "Variable types: 0 continuous, 650 integer (650 binary)\n",
      "Coefficient statistics:\n",
      "  Matrix range     [1e+00, 2e+10]\n",
      "  Objective range  [1e+00, 1e+00]\n",
      "  Bounds range     [1e+00, 1e+00]\n",
      "  RHS range        [1e+00, 2e+10]\n",
      "Warning: Model contains large matrix coefficients\n",
      "Warning: Model contains large rhs\n",
      "         Consider reformulating model or setting NumericFocus parameter\n",
      "         to avoid numerical issues.\n",
      "Presolve removed 30407 rows and 0 columns\n",
      "Presolve time: 0.10s\n",
      "Presolved: 2243 rows, 650 columns, 14248 nonzeros\n",
      "Variable types: 0 continuous, 650 integer (650 binary)\n",
      "\n",
      "Root relaxation: objective 5.000000e+00, 2010 iterations, 0.12 seconds (0.19 work units)\n",
      "\n",
      "    Nodes    |    Current Node    |     Objective Bounds      |     Work\n",
      " Expl Unexpl |  Obj  Depth IntInf | Incumbent    BestBd   Gap | It/Node Time\n",
      "\n",
      "*    0     0               0       5.0000000    5.00000  0.00%     -    0s\n",
      "\n",
      "Explored 1 nodes (2010 simplex iterations) in 0.24 seconds (0.34 work units)\n",
      "Thread count was 8 (of 8 available processors)\n",
      "\n",
      "Solution count 1: 5 \n",
      "\n",
      "Optimal solution found (tolerance 1.00e-04)\n",
      "Best objective 5.000000000000e+00, best bound 5.000000000000e+00, gap 0.0000%\n"
     ]
    }
   ],
   "source": [
    "# integrate objective and constraints into the model\n",
    "myModel.update()\n",
    "# write the model in a file to make sure it is constructed correctly\n",
    "myModel.write( filename = \"testOutput_A.lp\" )\n",
    "# optimize the model\n",
    "myModel.optimize()"
   ]
  },
  {
   "cell_type": "code",
   "execution_count": 59,
   "metadata": {},
   "outputs": [
    {
     "name": "stdout",
     "output_type": "stream",
     "text": [
      "Optimal Objective:  5\n"
     ]
    }
   ],
   "source": [
    "# get optimal objective value and solution from the model\n",
    "\n",
    "optVal = int(myModel.ObjVal )\n",
    "print( \"Optimal Objective: \",  optVal )\n",
    "\n",
    "optY = []\n",
    "for i in range(len(clients)):\n",
    "    optY.append([])\n",
    "    for j in range(len(depots)):\n",
    "        optY[i].append(int(Y[i][j].x))"
   ]
  },
  {
   "cell_type": "code",
   "execution_count": 52,
   "metadata": {},
   "outputs": [
    {
     "data": {
      "text/plain": [
       "<matplotlib.collections.PathCollection at 0x7f85a0018be0>"
      ]
     },
     "execution_count": 52,
     "metadata": {},
     "output_type": "execute_result"
    },
    {
     "data": {
      "image/png": "[encoded data removed]",
      "text/plain": [
       "<Figure size 432x288 with 1 Axes>"
      ]
     },
     "metadata": {
      "needs_background": "light"
     },
     "output_type": "display_data"
    }
   ],
   "source": [
    "# Grab the indices of the clusters:\n",
    "depots_vals = [int(val.x) for val in depots]\n",
    "\n",
    "def clusters(assign_matrix):\n",
    "    clusts = []\n",
    "    for j in range(len(depots_vals)):\n",
    "        if depots_vals[j] == 1: #check if the col of Y is a depot\n",
    "            clusts.append([])\n",
    "            for i in range(len(clients)):\n",
    "                if assign_matrix[i][j] == 1:\n",
    "                     clusts[-1].append(i)\n",
    "    return clusts\n",
    "\n",
    "# Create scatterplot\n",
    "c = clusters(optY)\n",
    "\n",
    "X_colors_0 = []\n",
    "for i in range(len(c)):\n",
    "    X_colors_0.append([])\n",
    "    for index in c[i]:\n",
    "        X_colors_0[i].append(X[0][index])\n",
    "        \n",
    "X_colors_1 = []\n",
    "for i in range(len(c)):\n",
    "    X_colors_1.append([])\n",
    "    for index in c[i]:\n",
    "        X_colors_1[i].append(X[1][index])\n",
    "         \n",
    "for i in range(len(X_colors_1)):\n",
    "    plt.scatter(X_colors_0[i], X_colors_1[i])     \n",
    "\n",
    "plt.scatter(X_colors_0[0], X_colors_1[0])"
   ]
  }
 ],
 "metadata": {
  "kernelspec": {
   "display_name": "Python 3",
   "language": "python",
   "name": "python3"
  },
  "language_info": {
   "codemirror_mode": {
    "name": "ipython",
    "version": 3
   },
   "file_extension": ".py",
   "mimetype": "text/x-python",
   "name": "python",
   "nbconvert_exporter": "python",
   "pygments_lexer": "ipython3",
   "version": "3.8.8"
  }
 },
 "nbformat": 4,
 "nbformat_minor": 4
}
