{
 "cells": [
  {
   "cell_type": "code",
   "execution_count": 267,
   "metadata": {},
   "outputs": [],
   "source": [
    "# MINIMIZING AVG PAIRWISE DIST"
   ]
  },
  {
   "cell_type": "code",
   "execution_count": 280,
   "metadata": {},
   "outputs": [
    {
     "name": "stdout",
     "output_type": "stream",
     "text": [
      "/Users/Abe/opt/anaconda3/bin/python\n",
      "Requirement already satisfied: gurobipy in /Users/Abe/opt/anaconda3/lib/python3.8/site-packages (9.5.0)\n"
     ]
    }
   ],
   "source": [
    "import sys\n",
    "print(sys.executable)\n",
    "!{sys.executable} -m pip install gurobipy\n",
    "from gurobipy import *\n",
    "import math\n",
    "from matplotlib import pyplot as plt"
   ]
  },
  {
   "cell_type": "code",
   "execution_count": 269,
   "metadata": {},
   "outputs": [
    {
     "name": "stdout",
     "output_type": "stream",
     "text": [
      "<HDF5 dataset \"X\": shape (2, 25), type \"<f8\">\n",
      "[-9.31431352 -5.66901261 -5.58994131 -6.48529461 -4.64803558 -6.92318026\n",
      " -4.9219469  -6.18895012 -6.383588   -4.83052083 -5.54884829 -6.03902456\n",
      " -9.36696392 -1.01326107  0.08758034  1.34522284  1.02763538  0.18065355\n",
      "  0.96876053  2.14521255 -3.81989054 -4.94544952 -3.29144358 -2.36855237\n",
      " -4.05178677]\n",
      "[ 21.85248196  22.82571229  21.70189592  20.44812788 -13.57047711\n",
      " -13.45455931 -13.16898973 -15.16087729 -14.11121926 -13.3698081\n",
      " -13.74643136 -13.17614957 -13.63194927  -5.99053048  -4.86670161\n",
      "  -5.53625377  -6.47446421  -4.69903272  -4.01117971  -6.54907345\n",
      "   1.50498652   1.28581208   2.7638501    2.11314414   1.67859478]\n"
     ]
    }
   ],
   "source": [
    "#open jld\n",
    "#https://docs.h5py.org/en/stable/high/group.html\n",
    "#https://docs.h5py.org/en/stable/high/attr.html\n",
    "import h5py\n",
    "x1_data = h5py.File(\"X1.jld\", \"r\")\n",
    "x2_data = h5py.File(\"X2.jld\", \"r\")\n",
    "x3_data = h5py.File(\"X3.jld\", \"r\")\n",
    "\n",
    "#print(x1_data.keys(),x2_data.keys(),x3_data.keys())\n",
    "\n",
    "# f[\"input\"].value, f[\"output\"].value\n",
    "# f[\"X\"].value\n",
    "# f[\"_creator\"]\n",
    "\n",
    "print(x1_data[\"X\"])\n",
    "print(x1_data[\"X\"][0])\n",
    "print(x1_data[\"X\"][1])\n",
    "\n",
    "#x1_data[\"_creator\"].keys()"
   ]
  },
  {
   "cell_type": "code",
   "execution_count": 270,
   "metadata": {},
   "outputs": [],
   "source": [
    "#Set parameters\n",
    "\n",
    "instance = 2\n",
    "# 1 or 2 (3 not feasible)\n",
    "\n",
    "if instance == 1:\n",
    "    n_min = 2\n",
    "    n_max = 8\n",
    "    d_max = 10\n",
    "    X = [x1_data[\"X\"][0], x1_data[\"X\"][1]]\n",
    "    \n",
    "elif instance == 2:\n",
    "    n_min = 4\n",
    "    n_max = 6\n",
    "    d_max = 9\n",
    "    X = [x2_data[\"X\"][0], x2_data[\"X\"][1]]\n",
    "\n",
    "else:\n",
    "    print(\"Error: instance needs to be 1 or 2\")\n",
    "\n",
    "n = len(x1_data[\"X\"][0]) #should be 25"
   ]
  },
  {
   "cell_type": "code",
   "execution_count": 271,
   "metadata": {},
   "outputs": [
    {
     "data": {
      "text/plain": [
       "22.18458855699755"
      ]
     },
     "execution_count": 271,
     "metadata": {},
     "output_type": "execute_result"
    }
   ],
   "source": [
    "# Define a distance matrix to hopefully reduce computational intensity\n",
    "# D[i][ii] is the distance between clients i and ii\n",
    "\n",
    "D = []\n",
    "for i in range(len(clients)):\n",
    "    D.append([])\n",
    "    for ii in range(len(clients)):\n",
    "        D[i].append( math.sqrt((X[0][i] - X[0][ii])**2 + (X[1][i] - X[1][ii])**2) )\n",
    "max(D[1])"
   ]
  },
  {
   "cell_type": "code",
   "execution_count": 272,
   "metadata": {},
   "outputs": [],
   "source": [
    "# create model\n",
    "myModel = Model( \"ClientDepot_MinDist\" )"
   ]
  },
  {
   "cell_type": "code",
   "execution_count": 273,
   "metadata": {},
   "outputs": [],
   "source": [
    "# decision variables and parameters\n",
    "\n",
    "# Y is an assignment matrix:\n",
    "# Y[i][j] = 1: client i is assigned to depot j, otherwise 0\n",
    "# each entry of Y is its own decision variable\n",
    "Y = []\n",
    "for i in range(n):\n",
    "    Y.append([])\n",
    "    for j in range(n):\n",
    "        Y[i].append(0)\n",
    "        Y[i][j] = myModel.addVar(lb = 0, ub = 1.0, vtype = GRB.BINARY )\n",
    "\n",
    "\n",
    "#depots is a vector that indicates whether a depot has clients assigned to it\n",
    "#depots[j] = 0: no clients assigned to depot j.\n",
    "#          = 1: one or more clients assigned to depot j.\n",
    "depots = [myModel.addVar(lb = 0, ub = 1.0, vtype = GRB.BINARY ) for j in range(n)]\n",
    "\n",
    "#parallel (perpendicular?) list to depots, used just for summing \n",
    "clients = [None for j in range(n)] \n",
    "\n",
    "# Z is a matrix that indicates whether clients i and ii are in the same depot\n",
    "Z = []\n",
    "for i in range(len(clients)):\n",
    "    Z.append([])\n",
    "    for ii in range(len(clients)):\n",
    "        Z[i].append(None)\n",
    "        Z[i][ii] = myModel.addVar(lb = 0, ub = 1.0, vtype = GRB.CONTINUOUS )\n",
    "\n",
    "\n",
    "#Y = myModel.addVar( vtype = GRB.BINARY, name = \"Y\" )\n",
    "myModel.update()\n",
    "#print(Y)\n",
    "        "
   ]
  },
  {
   "cell_type": "code",
   "execution_count": 274,
   "metadata": {},
   "outputs": [],
   "source": [
    "# objective: MINIMIZE PARIWISE DISTANCE\n",
    "\n",
    "# find an expression for total pairwise distance, \n",
    "# then select only the pairs that are in the same cluster.\n",
    "\n",
    "objExpr = LinExpr()\n",
    "\n",
    "for i in range(len(clients)):\n",
    "    for ii in range(len(clients)):\n",
    "        \n",
    "        objExpr += D[i][ii]*Z[i][ii]/2\n",
    "        #divide by 2 since this will double count\n",
    "\n",
    "myModel.setObjective( objExpr , GRB.MINIMIZE )"
   ]
  },
  {
   "cell_type": "code",
   "execution_count": 275,
   "metadata": {},
   "outputs": [],
   "source": [
    "# create expressions for constraints and add to the model\n",
    "\n",
    "#ZEROTH CONSTRAINT: definition of Z\n",
    "#matrix that indicates whether two clients are in the same depot\n",
    "\n",
    "for j in range(len(depots)):\n",
    "    \n",
    "    for i in range(len(clients)):\n",
    "        for ii in range(len(clients)):\n",
    "        \n",
    "            myModel.addConstr( lhs = Z[i][ii] , sense = GRB.LESS_EQUAL , rhs = ( Y[i][j] + Y[ii][j] ) / 2 + 0.1)\n",
    "            #Y[i][j] + Y[ii][j] ) / 2\n",
    "            # if Y[i][j] and Y[ii][j] are not both 1, then Z[i][ii] is constrained to be less than 1 (so zero)\n",
    "            # Otherwise this constraint is satisfied by any value of Z[i][ii]\n",
    "            \n",
    "            myModel.addConstr( lhs = Z[i][ii] , sense = GRB.GREATER_EQUAL , rhs = Y[i][j] + Y[ii][j] - 1.9) \n",
    "            #Y[i][j] + Y[ii][j] - 1\n",
    "            # if Y[i][j] and Y[ii][j] are both 1, then Z[i][ii] >= 0.5, so it will be 1. \n",
    "            # Otherwise this constraint is satisfied by any value of Z[i][ii]\n",
    "            \n",
    "            \n",
    "\n",
    "# FIRST CONSTRAINT: definition of \"depots\" \n",
    "#(vector that indicates if a column of Y represents a depot)\n",
    "\n",
    "firstConst = [LinExpr() for j in depots]\n",
    "for j in range(len(depots)):\n",
    "    \n",
    "    for i in range(len(clients)):\n",
    "        firstConst[j] += Y[i][j]/(n+1)\n",
    "    \n",
    "    # 0 < firstConst[j] < 1 if there is at least 1 client assigned to depot j\n",
    "        \n",
    "    myModel.addConstr( lhs = depots[j] , sense = GRB.GREATER_EQUAL , rhs = firstConst[j] )\n",
    "    #if there are some clients assigned to depot j (nonzero entries in the j-th col of Y)\n",
    "    #then depots[j] must be non-zero. since depots is binary, it will take on the value 1.\n",
    "    \n",
    "    myModel.addConstr( lhs = depots[j], sense = GRB.LESS_EQUAL, rhs = firstConst[j]*(n+1) + 0.5 )\n",
    "    # if there is no client assigned to depots[j], then the rhs will be 0.5, so\n",
    "    # depots[j] will be forced to be less than 0.5, and the only option is zero\n",
    "    # NOTE that this contraint is automatically satisfied if firstConst[j] is nonzero since the lhs > 1.\n",
    "    \n",
    "    \n",
    "    \n",
    "#SECOND CONSTRAINT: client-depot uniqueness\n",
    "#ensures that the sum of each row of Y is exactly 1 (each client assigned to one unique depot)\n",
    "\n",
    "secondConst = [LinExpr() for i in clients]\n",
    "for i in range(len(clients)):\n",
    "    \n",
    "    for j in range(len(depots)):\n",
    "        secondConst[i] += Y[i][j]\n",
    "    \n",
    "    myModel.addConstr( lhs = secondConst[i] , sense = GRB.EQUAL , rhs = 1 )\n",
    "\n",
    "    \n",
    "#THIRD CONSTRAINT: min and max clients constraint\n",
    "\n",
    "thirdConst = [LinExpr() for j in depots]\n",
    "for j in range(len(depots)):\n",
    "    \n",
    "    for i in range(len(clients)):\n",
    "        thirdConst[j] += Y[i][j]\n",
    "    \n",
    "    myModel.addConstr( lhs = thirdConst[j] , sense = GRB.LESS_EQUAL , rhs = n_max*depots[j] )\n",
    "    myModel.addConstr( lhs = thirdConst[j] , sense = GRB.GREATER_EQUAL , rhs = n_min*depots[j] )\n",
    "    \n",
    "# FOURTH CONSTRAINT: max distance constraint\n",
    "\n",
    "for j in range(len(depots)):\n",
    "    \n",
    "    #compare the distances between all clients in the column\n",
    "    \n",
    "    for i in range(len(depots)):\n",
    "        for ii in range(len(depots)): #TRIPLE LOOP :)\n",
    "            \n",
    "            act = 100*(1 - Y[i][j]) + 100*(1 - Y[ii][j]) #100 is about 5x the max distance \n",
    "            myModel.addConstr( lhs = D[i][ii] , sense = GRB.LESS_EQUAL , rhs = d_max + act )\n",
    "            #if Y[i][j] or Y[ii][j] = 0, the constraint will be satisfied automatically\n",
    "            #if they are both 1, then the constraint is \"act\"ivated, \n",
    "            #so the distance between that pair must be less than d_max\n",
    "            "
   ]
  },
  {
   "cell_type": "code",
   "execution_count": 276,
   "metadata": {},
   "outputs": [
    {
     "name": "stdout",
     "output_type": "stream",
     "text": [
      "Gurobi Optimizer version 9.5.0 build v9.5.0rc5 (mac64[rosetta2])\n",
      "Thread count: 8 physical cores, 8 logical processors, using up to 8 threads\n",
      "Optimize a model with 47000 rows, 1275 columns and 126350 nonzeros\n",
      "Model fingerprint: 0xd4143991\n",
      "Variable types: 625 continuous, 650 integer (650 binary)\n",
      "Coefficient statistics:\n",
      "  Matrix range     [4e-02, 2e+02]\n",
      "  Objective range  [4e-01, 1e+01]\n",
      "  Bounds range     [1e+00, 1e+00]\n",
      "  RHS range        [1e-01, 2e+02]\n",
      "Presolve removed 40177 rows and 445 columns\n",
      "Presolve time: 0.14s\n",
      "Presolved: 6823 rows, 830 columns, 28230 nonzeros\n",
      "Variable types: 0 continuous, 830 integer (830 binary)\n",
      "\n",
      "Root relaxation: objective 0.000000e+00, 1094 iterations, 0.06 seconds (0.13 work units)\n",
      "\n",
      "    Nodes    |    Current Node    |     Objective Bounds      |     Work\n",
      " Expl Unexpl |  Obj  Depth IntInf | Incumbent    BestBd   Gap | It/Node Time\n",
      "\n",
      "     0     0    0.00000    0   67          -    0.00000      -     -    0s\n",
      "H    0     0                      14.5550193    0.00000   100%     -    0s\n",
      "     0     0    0.00000    0  102   14.55502    0.00000   100%     -    0s\n",
      "     0     0    0.00000    0  103   14.55502    0.00000   100%     -    0s\n",
      "     0     0    0.00000    0   54   14.55502    0.00000   100%     -    0s\n",
      "     0     0    0.00000    0   67   14.55502    0.00000   100%     -    1s\n",
      "     0     0    0.00000    0   95   14.55502    0.00000   100%     -    1s\n",
      "     0     0    0.00000    0   85   14.55502    0.00000   100%     -    1s\n",
      "     0     0    0.00000    0   60   14.55502    0.00000   100%     -    1s\n",
      "     0     0    0.18602    0   85   14.55502    0.18602  98.7%     -    1s\n",
      "     0     0    1.38725    0   64   14.55502    1.38725  90.5%     -    2s\n",
      "     0     0    1.38725    0   62   14.55502    1.38725  90.5%     -    2s\n",
      "     0     2    1.38725    0   62   14.55502    1.38725  90.5%     -    2s\n",
      "H   74    81                      14.5550190    1.38725  90.5%   186    3s\n",
      "H  114   116                      13.4193127    1.38725  89.7%   176    4s\n",
      "H  148   151                      13.4193108    1.38725  89.7%   174    4s\n",
      "   180   191    1.38725   23  104   13.41931    1.38725  89.7%   183    5s\n",
      "H  975   846                      13.4193107    1.38725  89.7%   194    8s\n",
      "H 1220  1007                      13.4193102    1.38725  89.7%   202    9s\n",
      "  1291  1089    2.41836   15  102   13.41931    1.38725  89.7%   205   10s\n",
      "  1478  1194    1.38725   12  103   13.41931    1.38725  89.7%   221   15s\n",
      "  1538  1238    1.38725   17   85   13.41931    1.38725  89.7%   260   20s\n",
      "H 1554  1186                      13.4193101    1.38725  89.7%   263   20s\n",
      "H 1602  1154                      12.7522969    1.38725  89.1%   269   20s\n",
      "H 1611  1113                      12.7522948    1.38725  89.1%   271   21s\n",
      "H 1656  1090                      12.7522948    1.38725  89.1%   279   22s\n",
      "H 1693  1061                      12.3784323    1.38725  88.8%   286   24s\n",
      "H 1697  1014                      12.0508771    1.38725  88.5%   290   24s\n",
      "  1738  1042    1.38725   28   91   12.05088    1.38725  88.5%   295   25s\n",
      "H 1741   997                      12.0508749    1.38725  88.5%   295   25s\n",
      "H 1992  1073                      12.0508736    1.38725  88.5%   336   29s\n",
      "  2044  1076    1.38725   41   98   12.05087    1.38725  88.5%   348   32s\n",
      "H 2085  1059                      12.0508727    1.38725  88.5%   354   33s\n",
      "  2142  1112    1.38725   47  102   12.05087    1.38725  88.5%   367   35s\n",
      "H 2357  1118                      12.0508726    1.38725  88.5%   396   38s\n",
      "  2476  1187    3.12024   64  111   12.05087    1.38725  88.5%   395   40s\n",
      "  2768  1327 infeasible   86        12.05087    1.38725  88.5%   428   45s\n",
      "  3026  1419    1.38725   97  108   12.05087    1.38725  88.5%   443   50s\n",
      "  3307  1541    1.38725  116  102   12.05087    1.38725  88.5%   479   55s\n",
      "  3494  1668    1.38725  125  123   12.05087    1.38725  88.5%   505   60s\n",
      "  4000  2022    1.69815  136  128   12.05087    1.69645  85.9%   502   65s\n",
      "  4602  2290    1.91253  145  123   12.05087    1.69645  85.9%   481   70s\n",
      "  4881  2582    3.83842  155  262   12.05087    1.69645  85.9%   491   76s\n",
      "  5418  2957     cutoff  162        12.05087    1.96553  83.7%   488   81s\n",
      "\n",
      "Explored 5872 nodes (2863955 simplex iterations) in 83.62 seconds (203.64 work units)\n",
      "Thread count was 8 (of 8 available processors)\n",
      "\n",
      "Solution count 10: 12.0509 12.0509 12.0509 ... 13.4193\n",
      "\n",
      "Solve interrupted\n",
      "Best objective 1.205081919215e+01, best bound 2.013258635713e+00, gap 83.2936%\n"
     ]
    }
   ],
   "source": [
    "# integrate objective and constraints into the model\n",
    "myModel.update()\n",
    "# write the model in a file to make sure it is constructed correctly\n",
    "myModel.write( filename = \"testOutput_C.lp\" )\n",
    "# optimize the model\n",
    "myModel.optimize()"
   ]
  },
  {
   "cell_type": "code",
   "execution_count": 277,
   "metadata": {},
   "outputs": [
    {
     "name": "stdout",
     "output_type": "stream",
     "text": [
      "\n",
      "Optimal Objective: 12.050819192152407\n",
      "\n",
      "Optimal Solution:\n",
      "[0, 0, 0, 0, 0, 0, 1, 0, 0, 0, 0, 0, 0, 0, 0, 0, 0, 0, 0, 0, 0, 0, 0, 0, 0]\n",
      "[0, 0, 0, 0, 0, 0, 0, 0, 0, 0, 0, 0, 0, 0, 0, 0, 0, 0, 0, 0, 0, 0, 0, 0, 0]\n",
      "[0, 0, 0, 0, 0, 0, 0, 0, 0, 0, 0, 0, 0, 0, 0, 0, 1, 0, 0, 0, 0, 0, 0, 0, 0]\n",
      "[0, 0, 0, 0, 0, 0, 0, 0, 0, 0, 0, 0, 0, 0, 0, 0, 0, 0, 0, 0, 0, 0, 0, 0, 0]\n",
      "[0, 0, 0, 0, 0, 0, 0, 0, 0, 0, 0, 0, 0, 0, 0, 0, 0, 0, 0, 0, 0, 0, 0, 0, 0]\n",
      "[0, 0, 0, 0, 0, 0, 0, 0, 0, 0, 0, 0, 0, 0, 0, 0, 0, 0, 0, 0, 0, 0, 1, 0, 0]\n",
      "[0, 0, 0, 0, 0, 0, 0, 0, 0, 0, 0, 0, 0, 0, 0, 0, 0, 0, 0, 0, 0, 0, 0, 0, 0]\n",
      "[0, 0, 0, 0, 0, 0, 0, 0, 0, 0, 0, 0, 0, 0, 0, 0, 0, 0, 0, 0, 0, 0, 0, 0, 0]\n",
      "[0, 0, 0, 0, 0, 0, 0, 0, 0, 0, 0, 0, 0, 0, 0, 0, 0, 0, 0, 0, 0, 0, 0, 0, 0]\n",
      "[0, 0, 0, 0, 0, 0, 1, 0, 0, 0, 0, 0, 0, 0, 0, 0, 0, 0, 0, 0, 0, 0, 0, 0, 0]\n",
      "[0, 0, 0, 0, 0, 0, 0, 1, 0, 0, 0, 0, 0, 0, 0, 0, 0, 0, 0, 0, 0, 0, 0, 0, 0]\n",
      "[0, 0, 0, 0, 0, 0, 0, 1, 0, 0, 0, 0, 0, 0, 0, 0, 0, 0, 0, 0, 0, 0, 0, 0, 0]\n",
      "[0, 0, 0, 0, 0, 0, 0, 0, 0, 0, 0, 0, 0, 0, 0, 0, 0, 0, 0, 0, 0, 0, 0, 0, 0]\n",
      "[0, 0, 0, 0, 0, 0, 0, 0, 0, 0, 0, 0, 0, 0, 0, 0, 0, 0, 0, 0, 0, 0, 0, 0, 0]\n",
      "[0, 0, 0, 0, 0, 0, 0, 0, 0, 0, 0, 0, 0, 0, 0, 0, 1, 0, 0, 0, 0, 0, 0, 0, 0]\n",
      "[0, 0, 0, 0, 0, 0, 0, 0, 0, 0, 0, 0, 0, 0, 0, 0, 0, 0, 0, 0, 0, 0, 0, 0, 0]\n",
      "[0, 0, 0, 0, 0, 0, 0, 0, 0, 0, 0, 0, 1, 0, 0, 0, 0, 0, 0, 0, 0, 0, 0, 0, 0]\n",
      "[0, 0, 0, 0, 0, 0, 0, 1, 0, 0, 0, 0, 0, 0, 0, 0, 0, 0, 0, 0, 0, 0, 0, 0, 0]\n",
      "[0, 0, 0, 0, 0, 0, 1, 0, 0, 0, 0, 0, 0, 0, 0, 0, 0, 0, 0, 0, 0, 0, 0, 0, 0]\n",
      "[0, 0, 0, 0, 0, 0, 0, 0, 0, 0, 0, 0, 1, 0, 0, 0, 0, 0, 0, 0, 0, 0, 0, 0, 0]\n",
      "[0, 0, 0, 0, 0, 0, 0, 0, 0, 0, 0, 0, 1, 0, 0, 0, 0, 0, 0, 0, 0, 0, 0, 0, 0]\n",
      "[0, 0, 0, 0, 0, 0, 0, 0, 0, 0, 0, 0, 0, 0, 0, 0, 0, 0, 0, 0, 0, 0, 0, 0, 0]\n",
      "[0, 0, 0, 0, 0, 0, 0, 0, 0, 0, 0, 0, 0, 0, 0, 0, 1, 0, 0, 0, 0, 0, 0, 0, 0]\n",
      "[0, 0, 0, 0, 0, 0, 1, 0, 0, 0, 0, 0, 0, 0, 0, 0, 0, 0, 0, 0, 0, 0, 0, 0, 0]\n",
      "[0, 0, 0, 0, 0, 0, 0, 0, 0, 0, 0, 0, 0, 0, 0, 0, 1, 0, 0, 0, 0, 0, 0, 0, 0]\n"
     ]
    }
   ],
   "source": [
    "# print optimal objective and optimal solution\n",
    "print( \"\\nOptimal Objective: \" + str( myModel.ObjVal ) )\n",
    "\n",
    "print( \"\\nOptimal Solution:\" )\n",
    "Y_vals = []\n",
    "for i in range(len(clients)):\n",
    "    Y_vals.append([])\n",
    "    for j in range(len(depots)):\n",
    "        Y_vals[i].append(int(Y[i][j].x))\n",
    "\n",
    "for i in range(len(clients)):\n",
    "    print(Y_vals[i])"
   ]
  },
  {
   "cell_type": "code",
   "execution_count": 278,
   "metadata": {},
   "outputs": [
    {
     "data": {
      "text/plain": [
       "[[0, 9, 18, 23], [10, 11, 17], [16, 19, 20], [2, 14, 22, 24], [], [5]]"
      ]
     },
     "execution_count": 278,
     "metadata": {},
     "output_type": "execute_result"
    }
   ],
   "source": [
    "# Grab the indices of the clusters:\n",
    "depots_vals = [int(val.x) for val in depots]\n",
    "\n",
    "def clusters(assign_matrix):\n",
    "    clusts = []\n",
    "    \n",
    "    for j in range(len(depots_vals)):\n",
    "        \n",
    "        if depots_vals[j] == 1: #check if the col of Y is a depot\n",
    "            \n",
    "            clusts.append([])\n",
    "            for i in range(len(clients)):\n",
    "                \n",
    "                if assign_matrix[i][j] == 1:\n",
    "                     clusts[-1].append(i)\n",
    "    \n",
    "    return clusts\n",
    "\n",
    "clusters(Y_vals)"
   ]
  },
  {
   "cell_type": "code",
   "execution_count": 281,
   "metadata": {},
   "outputs": [
    {
     "data": {
      "image/png": "[encoded data removed]",
      "text/plain": [
       "<Figure size 432x288 with 1 Axes>"
      ]
     },
     "metadata": {
      "needs_background": "light"
     },
     "output_type": "display_data"
    }
   ],
   "source": [
    "# Create scatterplot\n",
    "\n",
    "\n",
    "c = clusters(Y_vals)\n",
    "\n",
    "X_colors_0 = []\n",
    "for i in range(len(c)):\n",
    "    X_colors_0.append([])\n",
    "    \n",
    "    for index in c[i]:\n",
    "        X_colors_0[i].append(X[0][index])\n",
    "\n",
    "        \n",
    "X_colors_1 = []\n",
    "for i in range(len(c)):\n",
    "    X_colors_1.append([])\n",
    "    \n",
    "    for index in c[i]:\n",
    "        X_colors_1[i].append(X[1][index])\n",
    "       \n",
    "        \n",
    "for i in range(len(X_colors_1)):\n",
    "    \n",
    "    plt.scatter(X_colors_0[i], X_colors_1[i])   "
   ]
  },
  {
   "cell_type": "code",
   "execution_count": null,
   "metadata": {},
   "outputs": [],
   "source": []
  }
 ],
 "metadata": {
  "kernelspec": {
   "display_name": "Python 3",
   "language": "python",
   "name": "python3"
  },
  "language_info": {
   "codemirror_mode": {
    "name": "ipython",
    "version": 3
   },
   "file_extension": ".py",
   "mimetype": "text/x-python",
   "name": "python",
   "nbconvert_exporter": "python",
   "pygments_lexer": "ipython3",
   "version": "3.8.8"
  }
 },
 "nbformat": 4,
 "nbformat_minor": 4
}
