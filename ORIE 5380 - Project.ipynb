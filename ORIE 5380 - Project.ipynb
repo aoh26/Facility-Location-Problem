{
 "cells": [
  {
   "cell_type": "code",
   "execution_count": 36,
   "metadata": {},
   "outputs": [
    {
     "name": "stdout",
     "output_type": "stream",
     "text": [
      "/Users/Abe/opt/anaconda3/bin/python\n",
      "Requirement already satisfied: gurobipy in /Users/Abe/opt/anaconda3/lib/python3.8/site-packages (9.5.0)\n"
     ]
    }
   ],
   "source": [
    "import sys\n",
    "print(sys.executable)\n",
    "!{sys.executable} -m pip install gurobipy\n",
    "from gurobipy import *"
   ]
  },
  {
   "cell_type": "code",
   "execution_count": 37,
   "metadata": {},
   "outputs": [],
   "source": [
    "import math"
   ]
  },
  {
   "cell_type": "code",
   "execution_count": 44,
   "metadata": {},
   "outputs": [],
   "source": [
    "# create a new model\n",
    "myModel = Model( \"ClientDepot\" )\n",
    "\n",
    "n = 3\n",
    "n_min = 2\n",
    "n_max = 10\n",
    "d_max = 10\n",
    "\n",
    "# pretend X (only works with n = 3)!**\n",
    "X = [[30, 40, 20],\n",
    "     [10, 60, 20]]"
   ]
  },
  {
   "cell_type": "code",
   "execution_count": 45,
   "metadata": {},
   "outputs": [
    {
     "name": "stdout",
     "output_type": "stream",
     "text": [
      "[[<gurobi.Var C0>, <gurobi.Var C1>, <gurobi.Var C2>], [<gurobi.Var C3>, <gurobi.Var C4>, <gurobi.Var C5>], [<gurobi.Var C6>, <gurobi.Var C7>, <gurobi.Var C8>]]\n"
     ]
    }
   ],
   "source": [
    "# create decision variables and integrate them into the model\n",
    "\n",
    "Y = []\n",
    "for i in range(n):\n",
    "    Y.append([])\n",
    "    for j in range(n):\n",
    "        Y[i].append(0)\n",
    "        Y[i][j] = myModel.addVar(lb = 0, ub = 1.0, vtype = GRB.BINARY )\n",
    "\n",
    "# Y is an assignment matrix:\n",
    "# Y[i][j] = 1: client i is assigned to depot j, otherwise 0\n",
    "# each entry of Y is its own decision variable\n",
    "# print(Y)\n",
    "\n",
    "\n",
    "depots = [myModel.addVar(lb = 0, ub = 1.0, vtype = GRB.BINARY ) for j in range(n)]\n",
    "#depots is a vector that indicates whether a depot has clients assigned to it\n",
    "#depots[j] = 0: no clients assigned to depot j.\n",
    "#          = 1: one or more clients assigned to depot j.\n",
    "\n",
    "clients = [None for depot in range(n)] \n",
    "#parallel (perpendicular?) list to depots, used just for summing \n",
    "\n",
    "\n",
    "#Y = myModel.addVar( vtype = GRB.BINARY, name = \"Y\" )\n",
    "myModel.update()\n",
    "print(Y)\n",
    "        "
   ]
  },
  {
   "cell_type": "code",
   "execution_count": 46,
   "metadata": {},
   "outputs": [
    {
     "name": "stdout",
     "output_type": "stream",
     "text": [
      "<gurobi.LinExpr: C9 + C10 + C11>\n"
     ]
    }
   ],
   "source": [
    "# create a linear expression for the objective\n",
    "\n",
    "objExpr = LinExpr()\n",
    "\n",
    "for j in range(len(depots)):\n",
    "    objExpr += depots[j]\n",
    "\n",
    "myModel.setObjective( objExpr , GRB.MINIMIZE )\n",
    "\n",
    "print(objExpr)"
   ]
  },
  {
   "cell_type": "code",
   "execution_count": 47,
   "metadata": {},
   "outputs": [],
   "source": [
    "# create expressions for constraints and add to the model\n",
    "\n",
    "#definition of depots (lil y) constraint\n",
    "#logic:\n",
    "\n",
    "#if there are some clients assigned to depot j (nonzero entries in the j-th col of Y)\n",
    "#then depots[j] must be non-zero. since depots is binary, it will take on the value 1.\n",
    "\n",
    "#if there are no clients assigned to depot j (j-th col of Y is all zeros),\n",
    "#then depots[j] will be zero since our objective minimizes the sum of the entries of depots\n",
    "\n",
    "firstConst = [LinExpr() for j in depots]\n",
    "for j in range(len(depots)):\n",
    "    \n",
    "    for i in range(len(clients)):\n",
    "        firstConst[j] += Y[i][j]/(n+1)\n",
    "        \n",
    "    myModel.addConstr( lhs = firstConst[j] , sense = GRB.LESS_EQUAL , rhs = depots[j] )\n",
    "    \n",
    "    \n",
    "#client-depot uniqueness constraint:\n",
    "\n",
    "#ensures that the sum of each row of Y is exactly 1 \n",
    "#(each client assigned to one unique depot)\n",
    "\n",
    "secondConst = [LinExpr() for i in clients]\n",
    "for i in range(len(clients)):\n",
    "    \n",
    "    for j in range(len(depots)):\n",
    "        secondConst[i] += Y[i][j]\n",
    "    \n",
    "    myModel.addConstr( lhs = secondConst[i] , sense = GRB.EQUAL , rhs = 1 )\n",
    "\n",
    "    \n",
    "#min and max clients constraint:\n",
    "\n",
    "thirdConst = [LinExpr() for j in depots]\n",
    "for j in range(len(depots)):\n",
    "    \n",
    "    for i in range(len(clients)):\n",
    "        thirdConst[j] += Y[i][j]\n",
    "    \n",
    "    myModel.addConstr( lhs = thirdConst[j] , sense = GRB.LESS_EQUAL , rhs = n_max*depots[j] )\n",
    "    myModel.addConstr( lhs = thirdConst[j] , sense = GRB.GREATER_EQUAL , rhs = n_min*depots[j] )\n",
    "    \n",
    "#max distance constraint:\n",
    "\n",
    "#fourthConst = [LinExpr() for j in depots]\n",
    "for j in range(len(depots)):\n",
    "    \n",
    "    #compare the distances between all clients in the column\n",
    "    \n",
    "    for i in range(len(depots)):\n",
    "        for ii in range(len(depots)):\n",
    "            \n",
    "            d = math.sqrt((X[0][i] - X[0][ii])**2 + (X[1][i] - X[1][ii])**2)\n",
    "            act = 10000*(1 - Y[i][j]) + 10000*(1 - Y[ii][j])\n",
    "            #if Y[i][j] or Y[ii][j] = 0, the constraint will be satisfied automatically\n",
    "            \n",
    "            myModel.addConstr( lhs = d , sense = GRB.LESS_EQUAL , rhs = d_max + act )\n",
    "            \n",
    "    \n",
    "\n",
    "\n",
    "\n",
    "    \n",
    "    \n",
    "    \n",
    "    \n",
    "# firstConst += 100 * xm\n",
    "# firstConst += 40 * xs\n",
    "# myModel.addConstr( lhs = firstConst , sense = GRB.LESS_EQUAL , \\\n",
    "# rhs = 1 , name = \"client\" )\n",
    "\n",
    "\n",
    "# secondConst = LinExpr()\n",
    "# secondConst += 200 * xm\n",
    "# secondConst += 400 * xs\n",
    "# myModel.addConstr( lhs = secondConst , sense = GRB.LESS_EQUAL , \\\n",
    "# rhs = 60000 , name = \"stoConst\" )"
   ]
  },
  {
   "cell_type": "code",
   "execution_count": 48,
   "metadata": {},
   "outputs": [
    {
     "name": "stdout",
     "output_type": "stream",
     "text": [
      "Gurobi Optimizer version 9.5.0 build v9.5.0rc5 (mac64[rosetta2])\n",
      "Thread count: 8 physical cores, 8 logical processors, using up to 8 threads\n",
      "Optimize a model with 39 rows, 12 columns and 90 nonzeros\n",
      "Model fingerprint: 0x145d0327\n",
      "Variable types: 0 continuous, 12 integer (12 binary)\n",
      "Coefficient statistics:\n",
      "  Matrix range     [2e-01, 2e+04]\n",
      "  Objective range  [1e+00, 1e+00]\n",
      "  Bounds range     [1e+00, 1e+00]\n",
      "  RHS range        [1e+00, 2e+04]\n",
      "Presolve removed 30 rows and 12 columns\n",
      "Presolve time: 0.00s\n",
      "\n",
      "Explored 0 nodes (0 simplex iterations) in 0.01 seconds (0.00 work units)\n",
      "Thread count was 1 (of 8 available processors)\n",
      "\n",
      "Solution count 0\n",
      "\n",
      "Model is infeasible\n",
      "Best objective -, best bound -, gap -\n"
     ]
    }
   ],
   "source": [
    "# integrate objective and constraints into the model\n",
    "myModel.update()\n",
    "# write the model in a file to make sure it is constructed correctly\n",
    "myModel.write( filename = \"testOutput.lp\" )\n",
    "# optimize the model\n",
    "myModel.optimize()"
   ]
  },
  {
   "cell_type": "code",
   "execution_count": 49,
   "metadata": {},
   "outputs": [
    {
     "ename": "AttributeError",
     "evalue": "Unable to retrieve attribute 'ObjVal'",
     "output_type": "error",
     "traceback": [
      "\u001b[0;31m---------------------------------------------------------------------------\u001b[0m",
      "\u001b[0;31mAttributeError\u001b[0m                            Traceback (most recent call last)",
      "\u001b[0;32m<ipython-input-49-146f123edcf4>\u001b[0m in \u001b[0;36m<module>\u001b[0;34m\u001b[0m\n\u001b[1;32m      1\u001b[0m \u001b[0;31m# print optimal objective and optimal solution\u001b[0m\u001b[0;34m\u001b[0m\u001b[0;34m\u001b[0m\u001b[0;34m\u001b[0m\u001b[0m\n\u001b[0;32m----> 2\u001b[0;31m \u001b[0mprint\u001b[0m\u001b[0;34m(\u001b[0m \u001b[0;34m\"\\nOptimal Objective: \"\u001b[0m \u001b[0;34m+\u001b[0m \u001b[0mstr\u001b[0m\u001b[0;34m(\u001b[0m \u001b[0mmyModel\u001b[0m\u001b[0;34m.\u001b[0m\u001b[0mObjVal\u001b[0m \u001b[0;34m)\u001b[0m \u001b[0;34m)\u001b[0m\u001b[0;34m\u001b[0m\u001b[0;34m\u001b[0m\u001b[0m\n\u001b[0m\u001b[1;32m      3\u001b[0m \u001b[0mprint\u001b[0m\u001b[0;34m(\u001b[0m \u001b[0;34m\"\\nOptimal Solution:\"\u001b[0m \u001b[0;34m)\u001b[0m\u001b[0;34m\u001b[0m\u001b[0;34m\u001b[0m\u001b[0m\n\u001b[1;32m      4\u001b[0m \u001b[0mmyVars\u001b[0m \u001b[0;34m=\u001b[0m \u001b[0mmyModel\u001b[0m\u001b[0;34m.\u001b[0m\u001b[0mgetVars\u001b[0m\u001b[0;34m(\u001b[0m\u001b[0;34m)\u001b[0m\u001b[0;34m\u001b[0m\u001b[0;34m\u001b[0m\u001b[0m\n\u001b[1;32m      5\u001b[0m \u001b[0;32mfor\u001b[0m \u001b[0mcurVar\u001b[0m \u001b[0;32min\u001b[0m \u001b[0mmyVars\u001b[0m\u001b[0;34m:\u001b[0m\u001b[0;34m\u001b[0m\u001b[0;34m\u001b[0m\u001b[0m\n",
      "\u001b[0;32msrc/gurobipy/model.pxi\u001b[0m in \u001b[0;36mgurobipy.Model.__getattr__\u001b[0;34m()\u001b[0m\n",
      "\u001b[0;32msrc/gurobipy/model.pxi\u001b[0m in \u001b[0;36mgurobipy.Model.getAttr\u001b[0;34m()\u001b[0m\n",
      "\u001b[0;32msrc/gurobipy/attrutil.pxi\u001b[0m in \u001b[0;36mgurobipy.__getattr\u001b[0;34m()\u001b[0m\n",
      "\u001b[0;31mAttributeError\u001b[0m: Unable to retrieve attribute 'ObjVal'"
     ]
    }
   ],
   "source": [
    "# print optimal objective and optimal solution\n",
    "print( \"\\nOptimal Objective: \" + str( myModel.ObjVal ) )\n",
    "print( \"\\nOptimal Solution:\" )\n",
    "myVars = myModel.getVars()\n",
    "for curVar in myVars:\n",
    "    print ( curVar.varName + \" \" + str( curVar.x ) )\n",
    "# print optimal dual solution\n",
    "print( \"\\nOptimal Dual Solution:\" )\n",
    "myConsts = myModel.getConstrs()\n",
    "for curConst in myConsts:\n",
    "    print ( curConst.constrName + \" \" + str( curConst.pi ) )"
   ]
  },
  {
   "cell_type": "code",
   "execution_count": null,
   "metadata": {},
   "outputs": [],
   "source": []
  },
  {
   "cell_type": "code",
   "execution_count": null,
   "metadata": {},
   "outputs": [],
   "source": []
  },
  {
   "cell_type": "code",
   "execution_count": null,
   "metadata": {},
   "outputs": [],
   "source": []
  }
 ],
 "metadata": {
  "kernelspec": {
   "display_name": "Python 3",
   "language": "python",
   "name": "python3"
  },
  "language_info": {
   "codemirror_mode": {
    "name": "ipython",
    "version": 3
   },
   "file_extension": ".py",
   "mimetype": "text/x-python",
   "name": "python",
   "nbconvert_exporter": "python",
   "pygments_lexer": "ipython3",
   "version": "3.8.8"
  }
 },
 "nbformat": 4,
 "nbformat_minor": 4
}
